{
 "cells": [
  {
   "cell_type": "code",
   "execution_count": null,
   "metadata": {},
   "outputs": [],
   "source": [
    "import pandas as pd\n",
    "import numpy as np\n",
    "from urllib.request import urlopen, urljoin\n",
    "import re\n",
    "import requests\n",
    "from lxml import html\n",
    "from lxml import etree\n",
    "import extruct\n",
    "import requests\n",
    "import pprint\n",
    "from w3lib.html import get_base_url"
   ]
  },
  {
   "cell_type": "code",
   "execution_count": null,
   "metadata": {},
   "outputs": [],
   "source": [
    "def download_page(url):\n",
    "    return requests.get(url)\n",
    "\n",
    "def extract_links(page):\n",
    "    link_regex = re.compile('<a[^>]+href=[\"\\'](.*?)[\"\\']', re.IGNORECASE)\n",
    "    return link_regex.findall(page)"
   ]
  },
  {
   "cell_type": "code",
   "execution_count": null,
   "metadata": {},
   "outputs": [],
   "source": [
    "target_url = 'https://clueb.it/'\n",
    "clueb = download_page(target_url)\n",
    "links = extract_links(clueb)\n",
    "for link in links:\n",
    "    print(urljoin(target_url, link))"
   ]
  },
  {
   "cell_type": "markdown",
   "metadata": {},
   "source": [
    "<!DOCTYPE html>\n",
    "<html>\n",
    "    <head>\n",
    "  \t<meta charset=\"UTF-8\">\n",
    "  \t<title> I Promessi Sposi</title>\n",
    "   </head>\n",
    "<body>\n",
    "  <div itemscope=\"\" itemtype=\"http://schema.org/Book\" itemprop=\"mainEntity\">\n",
    "  <img itemprop=\"image\" \t\tsrc=\"https://en.wikipedia.org/wiki/File:Francesco_Hayez_040.jpg\"\n",
    "     \talt=\"Alessandro Manzoni\"/>\n",
    "    <span itemprop=\"name\">I promessi sposi</span> —\n",
    "    <link itemprop=\"url\" href=\"https://it.wikipedia.org/wiki/I_promessi_sposi\"/> \t<br />\n",
    "    \tdi <a itemprop=\"author\" href=\"https://it.wikipedia.org/wiki/Alessandro_Manzoni\">\n",
    "      Alessandro Manzoni</a>\n",
    "   </div>\n",
    "    <div itemtype=\"http://schema.org/Offer\" itemscope=\"\" itemprop=\"offers\">\n",
    "      <span itemprop=\"name\">I promessi sposi</span><br />\n",
    "      <meta itemprop=\"priceCurrency\" content=\"EURO\" />\n",
    "      <span itemprop=\"price\">€ 19.95</span>\n",
    "      <link itemprop=\"availability\" href=\"http://schema.org/InStock\">In Stock\n",
    "    </div>\n",
    "</div>\n",
    "</body>\n",
    "</html>"
   ]
  },
  {
   "cell_type": "code",
   "execution_count": null,
   "metadata": {},
   "outputs": [],
   "source": [
    "\n",
    "link = 'https://www.libreriauniversitaria.it/macroeconomia-prospettiva-europea-blanchard-olivier/libro/9788815265715'\n",
    "response = requests.get(link)\n",
    "sourceCode = response.content\n",
    "html_elem = html.fromstring(sourceCode)\n",
    "for e in html_elem.xpath('//ul[@class=\"dettagli-prodotto\"]/li'):\n",
    "    print(e.text_content())"
   ]
  },
  {
   "cell_type": "markdown",
   "metadata": {},
   "source": [
    "Per informazioni su cosa sia l'XPath vedi https://developer.mozilla.org/en-US/docs/Web/XML/XPath"
   ]
  },
  {
   "cell_type": "code",
   "execution_count": null,
   "metadata": {},
   "outputs": [],
   "source": [
    "r = requests.get('https://www.libreriauniversitaria.it/macroeconomia-prospettiva-europea-blanchard-olivier/libro/9788815265715')\n",
    "base_url = get_base_url(r.text, r.url)\n",
    "data = extruct.extract(r.content, base_url=base_url)\n",
    "pp = pprint.PrettyPrinter(indent=2)\n",
    "pp.pprint(data)"
   ]
  },
  {
   "cell_type": "markdown",
   "metadata": {},
   "source": [
    "Una pagina con informazioni sull'uso dei metadati è la seguente: https://pypi.org/project/extruct/"
   ]
  }
 ],
 "metadata": {
  "kernelspec": {
   "display_name": "programmazione",
   "language": "python",
   "name": "python3"
  },
  "language_info": {
   "codemirror_mode": {
    "name": "ipython",
    "version": 3
   },
   "file_extension": ".py",
   "mimetype": "text/x-python",
   "name": "python",
   "nbconvert_exporter": "python",
   "pygments_lexer": "ipython3",
   "version": "3.13.0rc2"
  }
 },
 "nbformat": 4,
 "nbformat_minor": 2
}
