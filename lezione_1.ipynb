{
 "cells": [
  {
   "cell_type": "code",
   "execution_count": 1,
   "metadata": {},
   "outputs": [],
   "source": [
    "# Creare un ambiente virtuale\n",
    "# `python3 -m venv nome_preferito`\n",
    "# Attivare l'ambiente virtuale\n",
    "# `source nome_preferito/bin/activate`\n",
    "#  Installare i pacchetti necessari\n",
    "# `pip install ipykernel`\n",
    "import ace_tools_open as tools\n",
    "import pandas as pd\n",
    "import numpy as np\n"
   ]
  },
  {
   "cell_type": "markdown",
   "metadata": {},
   "source": [
    "## Che cosa significa digitale?"
   ]
  },
  {
   "cell_type": "markdown",
   "metadata": {},
   "source": [
    "I computer hanno una lunghezza prestabilita delle singole \"parole\" (word size). Si può pensare a un programma per computer come a una lunga lista di istruzioni, in cui ciascuna istruzione ha la stessa dimensione. Una CPU avrà quindi un set di istruzioni. Se ipoteticamente avessimo un computer a 3 bit, esso leggerebbe 3 bit alla volta e potrebbe avere solo 8 istruzioni ($2^3$). Supponiamo, ad esempio:  \n",
    "\n",
    "- **000** significa \"inserisci il valore successivo nel registro A\"\n",
    "- **001** significa \"inserisci il valore successivo nel registro B\"\n",
    "- **010** significa \"somma il registro A al registro B e memorizza il risultato in A\"\n",
    "- **011** significa \"sottrai A da B e memorizza il risultato in A\"\n",
    "- **100** significa \"stampa il valore del registro A sullo schermo\"\n",
    "\n",
    "Un programma potrebbe quindi apparire così:\n",
    "```plaintext\n",
    "000 001 001 010 100\n",
    "```\n",
    "\n",
    "\n",
    "Il computer legge **000**, che indica di memorizzare il valore successivo nel registro A, quindi legge **001** e lo memorizza. Poi legge **001**, che indica di memorizzare il valore successivo nel registro B (ancora **001**). Successivamente, legge **010**, che somma i valori dei registri, quindi ora il registro A contiene **001 + 001** (che è **010**). Infine, legge **100**, che stampa il valore di A sullo schermo, quindi il programma stamperà il numero **2**."
   ]
  },
  {
   "cell_type": "code",
   "execution_count": 4,
   "metadata": {},
   "outputs": [
    {
     "name": "stdout",
     "output_type": "stream",
     "text": [
      "2\n"
     ]
    }
   ],
   "source": [
    "# In python apparirebbe così:\n",
    "A = 1\n",
    "B = 1\n",
    "A = B + A\n",
    "print(A)"
   ]
  },
  {
   "cell_type": "markdown",
   "metadata": {},
   "source": [
    "\n",
    "Questo spiega anche perché i programmi compilati per un determinato chip non funzionano su un altro e perché i programmi compilati per sistemi a 64 bit non funzionano su sistemi a 32 bit. Inoltre, il motivo per cui i chip AMD e Intel possono eseguire gli stessi programmi è che entrambi seguono lo stesso standard **x64** (e **x86** per i sistemi a 32 bit), garantendo così la coerenza dei programmi. Internamente, i chip potrebbero essere diversi, ma la stessa istruzione su entrambi i chip dovrebbe produrre lo stesso risultato.\n",
    "Questo è un esempio molto semplice, ma mostra come un computer possa eseguire un programma. In realtà, i computer moderni hanno una word size di 32 o 64 bit, il che significa che possono leggere 32 o 64 bit alla volta. Questo consente di avere un numero molto più grande di istruzioni e di memorizzare valori molto più grandi.  "
   ]
  },
  {
   "cell_type": "markdown",
   "metadata": {},
   "source": [
    "#### Come si rappresentano le parole\n",
    "\n",
    "Le parole `\"Hello, World!\"` sono memorizzate come successione di caratteri ASCII. \n",
    "\n",
    "\n",
    "| Memory Address | Contents (Hex) | ASCII Character |\n",
    "|----------------|----------------|------------------|\n",
    "| 0x1000         | 48             | 'H'              |\n",
    "| 0x1001         | 65             | 'e'              |\n",
    "| 0x1002         | 6C             | 'l'              |\n",
    "| 0x1003         | 6C             | 'l'              |\n",
    "| 0x1004         | 6F             | 'o'              |\n",
    "| 0x1005         | 2C             | ','              |\n",
    "| 0x1006         | 20             | ' '              |\n",
    "| 0x1007         | 57             | 'W'              |\n",
    "| 0x1008         | 6F             | 'o'              |\n",
    "| 0x1009         | 72             | 'r'              |\n",
    "| 0x100A         | 6C             | 'l'              |\n",
    "| 0x100B         | 64             | 'd'              |\n",
    "| 0x100C         | 21             | '!'              |\n",
    "| 0x100D         | 0A             | Newline (`\\n`)   |\n",
    "\n",
    "Ogni carattere è memorizzato in un byte (8 bit) e la stringa è terminata da un byte nullo (`0x00`), che indica la fine della stringa. L'indirizzo di memoria indica dove inizia la stringa. Quando un programma legge una parola accede all'indirizzo di memoria in cui inizia la stringa e legge i byte successivi fino a trovare il byte nullo. Un editor di testo legge il contenuto a un certo indirizzo di memoria e lo visualizza come `\"Hello, World!\"`."
   ]
  },
  {
   "cell_type": "markdown",
   "metadata": {},
   "source": [
    "## I file PDF"
   ]
  },
  {
   "cell_type": "code",
   "execution_count": null,
   "metadata": {},
   "outputs": [],
   "source": [
    "from PyPDF2 import PdfReader\n",
    "\n",
    "# https://pypdf.readthedocs.io/\n",
    "# Load the PDF\n",
    "pdf_path = \"/mnt/data/orario master 2024-25 8a ed.pdf\"\n",
    "reader = PdfReader(pdf_path)\n",
    "\n",
    "# Extract text content and basic structural details\n",
    "text_content = []\n",
    "layout_structure = []\n",
    "\n",
    "for page_num, page in enumerate(reader.pages):\n",
    "    text_content.append(page.extract_text())  # Extract text content\n",
    "    \n",
    "    # Gathering basic layout info (text bounding boxes not available in PyPDF2)\n",
    "    layout_structure.append(f\"Page {page_num + 1}: {len(page.extract_text().splitlines())} lines extracted\")\n",
    "\n",
    "# Combine text content for display\n",
    "full_text_content = \"\\n\\n\".join(text_content)\n",
    "\n",
    "# Display extracted information to user\n",
    "import ace_tools_open as tools; tools.display_dataframe_to_user(name=\"PDF Text and Layout Structure\", dataframe={\n",
    "    \"Page Number\": list(range(1, len(layout_structure) + 1)),\n",
    "    \"Layout Details\": layout_structure\n",
    "})\n",
    "\n",
    "full_text_content[:1000]  # Displaying first 1000 characters of text content for preview"
   ]
  },
  {
   "cell_type": "code",
   "execution_count": null,
   "metadata": {},
   "outputs": [],
   "source": [
    "import pandas as pd\n",
    "\n",
    "# Reformat data into a DataFrame for better organization\n",
    "data = {\n",
    "    \"Page Number\": list(range(1, len(layout_structure) + 1)),\n",
    "    \"Layout Details\": layout_structure\n",
    "}\n",
    "layout_df = pd.DataFrame(data)\n",
    "\n",
    "# Displaying extracted layout details for better visualization\n",
    "tools.display_dataframe_to_user(name=\"PDF Layout Details\", dataframe=layout_df)\n",
    "\n",
    "# Returning the first 1000 characters of the full text content for preview\n",
    "full_text_content[:1000]"
   ]
  },
  {
   "cell_type": "code",
   "execution_count": null,
   "metadata": {},
   "outputs": [],
   "source": [
    "from pdfminer.pdfparser import PDFParser\n",
    "from pdfminer.pdfdocument import PDFDocument\n",
    "from pdfminer.pdfpage import PDFPage\n",
    "from pdfminer.pdfinterp import PDFResourceManager\n",
    "from pdfminer.layout import LAParams, LTTextBox, LTChar\n",
    "from pdfminer.pdfpage import PDFTextExtractionNotAllowed\n",
    "\n",
    "# Function to extract font and style information\n",
    "def extract_font_styles(pdf_path):\n",
    "    font_data = []\n",
    "    with open(pdf_path, 'rb') as file:\n",
    "        parser = PDFParser(file)\n",
    "        document = PDFDocument(parser)\n",
    "        if not document.is_extractable:\n",
    "            raise PDFTextExtractionNotAllowed\n",
    "        resource_manager = PDFResourceManager()\n",
    "        laparams = LAParams()\n",
    "        for page_layout in PDFPage.create_pages(document):\n",
    "            if hasattr(page_layout, 'get_text'):\n",
    "                for element in page_layout:\n",
    "                    if isinstance(element, LTTextBox):\n",
    "                        for line in element:\n",
    "                            if isinstance(line, LTChar):  # Check if character-level data exists\n",
    "                                font = line.fontname\n",
    "                                size = line.size\n",
    "                                text = line.get_text()\n",
    "                                font_data.append({\"Font\": font, \"Size\": size, \"Text\": text})\n",
    "    return font_data\n",
    "\n",
    "# Extract font data from the PDF\n",
    "try:\n",
    "    font_styles = extract_font_styles(pdf_path)\n",
    "except Exception as e:\n",
    "    font_styles = str(e)\n",
    "\n",
    "font_styles[:10]  # Display a sample of the font and style data"
   ]
  },
  {
   "cell_type": "markdown",
   "metadata": {},
   "source": [
    "- Esercizio 1: editare un file "
   ]
  },
  {
   "cell_type": "code",
   "execution_count": 4,
   "metadata": {},
   "outputs": [
    {
     "data": {
      "text/html": [
       "<div>\n",
       "<style scoped>\n",
       "    .dataframe tbody tr th:only-of-type {\n",
       "        vertical-align: middle;\n",
       "    }\n",
       "\n",
       "    .dataframe tbody tr th {\n",
       "        vertical-align: top;\n",
       "    }\n",
       "\n",
       "    .dataframe thead th {\n",
       "        text-align: right;\n",
       "    }\n",
       "</style>\n",
       "<table border=\"1\" class=\"dataframe\">\n",
       "  <thead>\n",
       "    <tr style=\"text-align: right;\">\n",
       "      <th></th>\n",
       "      <th>0</th>\n",
       "    </tr>\n",
       "  </thead>\n",
       "  <tbody>\n",
       "    <tr>\n",
       "      <th>0</th>\n",
       "      <td>The Project Gutenberg eBook of La scienza in c...</td>\n",
       "    </tr>\n",
       "    <tr>\n",
       "      <th>1</th>\n",
       "      <td>This ebook is for the use of anyone anywhere i...</td>\n",
       "    </tr>\n",
       "    <tr>\n",
       "      <th>2</th>\n",
       "      <td>most other parts of the world at no cost and w...</td>\n",
       "    </tr>\n",
       "    <tr>\n",
       "      <th>3</th>\n",
       "      <td>whatsoever. You may copy it, give it away or r...</td>\n",
       "    </tr>\n",
       "    <tr>\n",
       "      <th>4</th>\n",
       "      <td>of the Project Gutenberg License included with...</td>\n",
       "    </tr>\n",
       "    <tr>\n",
       "      <th>5</th>\n",
       "      <td>at www.gutenberg.org. If you are not located i...</td>\n",
       "    </tr>\n",
       "    <tr>\n",
       "      <th>6</th>\n",
       "      <td>you will have to check the laws of the country...</td>\n",
       "    </tr>\n",
       "    <tr>\n",
       "      <th>7</th>\n",
       "      <td>before using this eBook.</td>\n",
       "    </tr>\n",
       "    <tr>\n",
       "      <th>8</th>\n",
       "      <td>Title: La scienza in cucina e l'arte di mangia...</td>\n",
       "    </tr>\n",
       "    <tr>\n",
       "      <th>9</th>\n",
       "      <td>Author: Pellegrino Artusi</td>\n",
       "    </tr>\n",
       "  </tbody>\n",
       "</table>\n",
       "</div>"
      ],
      "text/plain": [
       "                                                   0\n",
       "0  The Project Gutenberg eBook of La scienza in c...\n",
       "1  This ebook is for the use of anyone anywhere i...\n",
       "2  most other parts of the world at no cost and w...\n",
       "3  whatsoever. You may copy it, give it away or r...\n",
       "4  of the Project Gutenberg License included with...\n",
       "5  at www.gutenberg.org. If you are not located i...\n",
       "6  you will have to check the laws of the country...\n",
       "7                           before using this eBook.\n",
       "8  Title: La scienza in cucina e l'arte di mangia...\n",
       "9                          Author: Pellegrino Artusi"
      ]
     },
     "execution_count": 4,
     "metadata": {},
     "output_type": "execute_result"
    }
   ],
   "source": [
    "# url = \"https://www.gutenberg.org/cache/epub/59047/pg59047.txt\"\n",
    "# questo è l'intero contenuto dell'Artusi.\n",
    "# potete sostituirlo con qualunque altro testo vi interessi.\n",
    "testo = pd.read_csv(\"pg59047.txt\", sep=\"\\t\", header=None)\n",
    "# ora il testo è contenuto in un dataframe, qualcosa di simile a un foglio di calcolo excel.\n",
    "# possiamo visualizzarlo con il comando seguente, ad esempio le prime 10 righe\n",
    "testo.head(10)"
   ]
  },
  {
   "cell_type": "code",
   "execution_count": null,
   "metadata": {},
   "outputs": [
    {
     "data": {
      "text/plain": [
       "'most other parts of the world at no cost and with almost no restrictions'"
      ]
     },
     "execution_count": 12,
     "metadata": {},
     "output_type": "execute_result"
    }
   ],
   "source": [
    "# oppure scorrere le righe con il comando seguente\n",
    "testo.iloc[2, 0]"
   ]
  },
  {
   "cell_type": "code",
   "execution_count": null,
   "metadata": {},
   "outputs": [],
   "source": [
    "# possiamo anche caricare il file come un'unica stringa di testo\n",
    "with open(\"pg59047.txt\", encoding='utf-8') as file:\n",
    "    my_data = file.read()"
   ]
  },
  {
   "cell_type": "code",
   "execution_count": 17,
   "metadata": {},
   "outputs": [
    {
     "data": {
      "text/plain": [
       "\"      1922\\n\\n\\n\\n\\n                      Riservati i diritti d'Autore\\n                           a termini di Legge\\n\\n\\n\\n\\nLA STORIA DI UN LIBRO\\n\\nCHE RASSOMIGLIA\\n\\nALLA STORIA DELLA CENERENTOLA\\n\\n\\n                               _Vedi giudizio uman come spesso erra._\\n\\nAvevo data l'ultima mano al mio libro _La scienza in cucina e l'Arte di\\nmangiar bene_, quando capitò in Firenze il mio dotto amico Francesco\\nTrevisan, professore di belle lettere al liceo Scipione Maffei di\\nVerona. Appassionato cultore degli studi foscoliani, fu egli eletto\\na far parte del Comitato per erigere un monumento in Santa Croce al\\nCantor dei Sepolcri. In quella occasione avendo avuto il piacere di\\nospitarlo in casa mia, mi parve opportuno chiedergli il suo savio\\nparere intorno a quel mio culinario lavoro; ma ohimè! che, dopo averlo\\nesaminato, alle mie povere fatiche di tanti anni pronunziò la brutta\\nsentenza: _Questo è un libro che avrà poco esito._\\n\\nSgomento, ma non del tutto convinto della sua opinione, mi pungeva\\nil desiderio di appellarmi al giudizio del pubblico; quindi pensai di\\nrivolgermi per la stampa a una ben nota casa editrice di Firenze, nella\\nsperanza che, essendo coi proprietari in relazione quasi d'amicizia\\nper avere anni addietro spesovi una somma rilevante per diverse mie\\npubblicazioni, avrei trovato in loro una qualche condiscendenza. Anzi,\\nper dar loro coraggio, proposi a questi Signori di far l'operazione\\nin conto sociale e perchè fosse fatta a ragion veduta, dopo aver loro\\nmostrato il manoscritto, volli che avessero un saggio pratico della\\nmia cucina invitandoli un giorno a pranzo, il quale parve soddisfacente\\ntanto ad essi quanto agli altri commensali invitati a tener loro buona\\ncompagnia.\\n\\nLusinghe vane, perocchè dopo averci pensato sopra e tentennato\\nparecchio, uno di essi ebbe a dirmi: — Se il suo lavoro l'avesse fatto\\nDoney, allora solo se ne potrebbe parlar sul serio. — Se l'avesse\\ncompilato Doney —; io gli risposi —; probabilmente nessuno capirebbe\\nnulla come avviene del gro\""
      ]
     },
     "execution_count": 17,
     "metadata": {},
     "output_type": "execute_result"
    }
   ],
   "source": [
    "my_data[2000:4000]"
   ]
  },
  {
   "cell_type": "code",
   "execution_count": null,
   "metadata": {},
   "outputs": [],
   "source": [
    "# e poi esportarla in un altro file \n",
    "with open('data.txt', 'w') as file:\n",
    "    file.writelines(my_data[2000:4000])"
   ]
  },
  {
   "cell_type": "markdown",
   "metadata": {},
   "source": [
    "Ora aprite il file e modificatene il contenuto a vostra scelta. E non dimenticate di inserire vidoe o audio (ref https://markdown-videos.jorgenkh.no/) Tenete in considerazione le funzionalità del formato markdown:\n",
    "- `#` per i titoli\n",
    "- `**` per il testo in grassetto\n",
    "- `*` per il testo in corsivo\n",
    "- `---` per la linea orizzontale\n",
    "- `![descrizione](link all'immagine)` per le immagini\n",
    "- `[testo](link)` per i link\n",
    "- ` ``` ` per il codice\n",
    "- `>` per le citazioni\n",
    "ecc.  \n",
    "Ref. https://pandoc.org/MANUAL.html#pandocs-markdown  \n",
    "Se non lo avete ancora fatto dovete installare pandoc sulla vostra macchina.  \n",
    "Per farlo seguite le istruzioni riportate al link https://pandoc.org/installing.html"
   ]
  },
  {
   "cell_type": "code",
   "execution_count": 39,
   "metadata": {},
   "outputs": [],
   "source": [
    "!pandoc data.md -o output.html -f commonmark_x+footnotes  -t html"
   ]
  },
  {
   "cell_type": "code",
   "execution_count": null,
   "metadata": {},
   "outputs": [],
   "source": [
    "with open('output.html', 'r') as f:\n",
    "    html_content = f.read()\n",
    "\n",
    "from IPython.display import display, HTML\n",
    "display(HTML(html_content))"
   ]
  },
  {
   "cell_type": "markdown",
   "metadata": {},
   "source": [
    "- Esercizio 2: convertire un file in ePub\n",
    "\n",
    "Leggere https://pandoc.org/epub.html   \n",
    "Se volete potete usare il file css qui allegato `epub.css` per personalizzare il vostro file ePub."
   ]
  },
  {
   "cell_type": "code",
   "execution_count": null,
   "metadata": {},
   "outputs": [],
   "source": [
    "%pwd  #look at the current work dir\n",
    "%cd   progit/en"
   ]
  },
  {
   "cell_type": "code",
   "execution_count": 2,
   "metadata": {},
   "outputs": [],
   "source": [
    "import re\n",
    "import glob\n",
    "\n",
    "# Define the pattern to match\n",
    "pattern = re.compile(r'^Insert\\s*(.*)\\.png\\s*\\n([^\\n]*)$', re.MULTILINE)\n",
    "\n",
    "# Iterate over all markdown files in subdirectories\n",
    "for filepath in glob.glob('*/**/*.markdown', recursive=True):\n",
    "    with open(filepath, 'r') as file:\n",
    "        content = file.read()\n",
    "\n",
    "    # Perform the substitution\n",
    "    new_content = pattern.sub(r'![\\2](../figures/\\1-tn.png)', content)\n",
    "\n",
    "    # Write the modified content back to the file\n",
    "    with open(filepath, 'w') as file:\n",
    "        file.write(new_content)"
   ]
  },
  {
   "cell_type": "code",
   "execution_count": 10,
   "metadata": {},
   "outputs": [],
   "source": [
    "!pandoc -o progit.epub title.txt \\\n",
    "  01-introduction/01-chapter1.markdown \\\n",
    "  02-git-basics/01-chapter2.markdown \\\n",
    "  03-git-branching/01-chapter3.markdown \\\n",
    "  04-git-server/01-chapter4.markdown \\\n",
    "  05-distributed-git/01-chapter5.markdown \\\n",
    "  06-git-tools/01-chapter6.markdown \\\n",
    "  07-customizing-git/01-chapter7.markdown \\\n",
    "  08-git-and-other-scms/01-chapter8.markdown \\\n",
    "  09-git-internals/01-chapter9.markdown \\\n",
    "  --css epub.css \\\n",
    "  --epub-embed-font='fonts/ttf/*.ttf' \\\n",
    "  --epub-cover-image=cover.png"
   ]
  }
 ],
 "metadata": {
  "kernelspec": {
   "display_name": "programmazione",
   "language": "python",
   "name": "python3"
  },
  "language_info": {
   "codemirror_mode": {
    "name": "ipython",
    "version": 3
   },
   "file_extension": ".py",
   "mimetype": "text/x-python",
   "name": "python",
   "nbconvert_exporter": "python",
   "pygments_lexer": "ipython3",
   "version": "3.13.0"
  }
 },
 "nbformat": 4,
 "nbformat_minor": 2
}
